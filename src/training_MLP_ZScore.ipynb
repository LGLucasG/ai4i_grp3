{
 "cells": [
  {
   "cell_type": "markdown",
   "metadata": {},
   "source": [
    "## 0. Imports"
   ]
  },
  {
   "cell_type": "code",
   "execution_count": 1,
   "metadata": {},
   "outputs": [],
   "source": [
    "import pandas as pd\n",
    "import numpy as np\n",
    "from copy import deepcopy\n",
    "import torch\n",
    "import torch.nn as nn\n",
    "from torch.utils.data import Dataset, DataLoader"
   ]
  },
  {
   "cell_type": "markdown",
   "metadata": {},
   "source": [
    "## 1. Data Preparation"
   ]
  },
  {
   "cell_type": "code",
   "execution_count": 5,
   "metadata": {},
   "outputs": [
    {
     "name": "stdout",
     "output_type": "stream",
     "text": [
      "torch.Size([27780, 52]) torch.Size([6945, 52]) torch.Size([27780, 10]) torch.Size([6945, 10])\n"
     ]
    },
    {
     "name": "stderr",
     "output_type": "stream",
     "text": [
      "/tmp/ipykernel_11797/2770564947.py:7: RuntimeWarning: divide by zero encountered in divide\n",
      "  X_scaled = ((X - X.mean(axis=0)) / X.std(axis=0))\n",
      "/tmp/ipykernel_11797/2770564947.py:7: RuntimeWarning: invalid value encountered in divide\n",
      "  X_scaled = ((X - X.mean(axis=0)) / X.std(axis=0))\n"
     ]
    }
   ],
   "source": [
    "#Load data\n",
    "X = pd.read_csv(\"R6_entrada_anterior.csv\").to_numpy() #sensors\n",
    "y = pd.read_csv('R6_salida.csv').set_index(\"time\").to_numpy() #position\n",
    "\n",
    "\n",
    "#Normalize data\n",
    "X_scaled = ((X - X.mean(axis=0)) / X.std(axis=0))\n",
    "X_scaled = X_scaled[:, ~np.isnan(X_scaled).any(axis=0)]\n",
    "y_scaled = (y - y.mean(axis=0)) / y.std(axis=0)\n",
    "y_scaled = y_scaled[:, ~np.isnan(y_scaled).any(axis=0)]\n",
    "\n",
    "#Split into train and test\n",
    "random_indexes = np.random.permutation(len(X_scaled)) #Randomize batches\n",
    "split_index = round(len(X_scaled) * 0.8) #Spliing\n",
    "\n",
    "X_shuffled = X_scaled[random_indexes]\n",
    "X_train = X_shuffled[:split_index]\n",
    "X_test = X_shuffled[split_index:]\n",
    "\n",
    "y_shuffled = y_scaled[random_indexes]\n",
    "y_train = y_shuffled[:split_index]\n",
    "y_test = y_shuffled[split_index:]\n",
    "\n",
    "#Convert into tensor\n",
    "X_train = torch.tensor(X_train, dtype=torch.float32)\n",
    "X_test = torch.tensor(X_test, dtype=torch.float32)\n",
    "\n",
    "y_train = torch.tensor(y_train, dtype=torch.float32)\n",
    "y_test = torch.tensor(y_test, dtype=torch.float32)\n",
    "\n",
    "#Print size for checking\n",
    "print(X_train.shape, X_test.shape, y_train.shape, y_test.shape)\n",
    "\n",
    "#Create pythorch class\n",
    "class TimeSeriesDataset(Dataset):\n",
    "    def __init__(self, X, y):\n",
    "        self.X, self.y = X, y\n",
    "\n",
    "    def __len__(self):\n",
    "        return len(self.X)\n",
    "\n",
    "    def __getitem__(self, i):\n",
    "        return self.X[i], self.y[i]\n",
    "\n",
    "#Initialize pytorch class\n",
    "train_dataset = TimeSeriesDataset(X_train, y_train)\n",
    "test_dataset = TimeSeriesDataset(X_test, y_test)\n",
    "\n",
    "batch_size = 64\n",
    "\n",
    "train_loader = DataLoader(train_dataset, batch_size=batch_size)\n",
    "test_loader = DataLoader(test_dataset)"
   ]
  },
  {
   "cell_type": "markdown",
   "metadata": {},
   "source": [
    "## 2. Create Model"
   ]
  },
  {
   "cell_type": "code",
   "execution_count": 6,
   "metadata": {},
   "outputs": [],
   "source": [
    "class MLP(nn.Module):\n",
    "    def __init__(self, input_size:int, output_size:int, hidden_size:int, n_layers:int):\n",
    "        \"\"\"\n",
    "        Inizalization of the MLP model.\n",
    "\n",
    "        Args:\n",
    "            input_size (int): Input features (last dimensión of the imput data)\n",
    "            output_size (int): Output features (last dimensión of the output data)\n",
    "            hidden_size (int): Number of neurons in the hidding layer (recommended, no more than 128)\n",
    "            layers (int): Number of layers \n",
    "        \"\"\"\n",
    "        super(MLP, self).__init__()\n",
    "        self.hidden_size = hidden_size\n",
    "        self.layers_list = nn.ModuleList()\n",
    "\n",
    "        for layer in range(n_layers):\n",
    "            if layer == 0:\n",
    "                self.layers_list.append(nn.Linear(input_size, hidden_size))\n",
    "            elif layer == n_layers -1:\n",
    "                self.layers_list.append(nn.Linear(hidden_size, output_size))\n",
    "            else:\n",
    "                self.layers_list.append(nn.Linear(hidden_size, hidden_size))\n",
    "\n",
    "    def forward(self, x):\n",
    "\n",
    "        out = x\n",
    "        for layer in self.layers_list:\n",
    "            out = layer(out)\n",
    "\n",
    "        return out\n",
    "\n",
    "\n",
    "model = MLP(X_train.shape[1], y_train.shape[1], 32, 4) #32, 4\n",
    "\n",
    "\n",
    "# Training\n",
    "def train_epoch():\n",
    "    model.train(True)\n",
    "    print(f'Epoch: {epoch + 1}')\n",
    "    mean_loss = 0\n",
    "\n",
    "    for i, batch in enumerate(train_loader):\n",
    "        X_batch, y_batch = batch[0], batch[1]\n",
    "\n",
    "        outputs = model(X_batch)\n",
    "        loss = loss_function(outputs, y_batch)\n",
    "        mean_loss += loss.item()\n",
    "\n",
    "        loss.backward() #Calcular los gradientes respecto al loss\n",
    "        optimizer.step()\n",
    "        optimizer.zero_grad()\n",
    "\n",
    "        if (i + 1) % 100 == 0:\n",
    "            print(f'Batch {i + 1}, Loss: {mean_loss / 100:.3f}')\n",
    "            mean_loss = 0\n",
    "\n",
    "\n",
    "def validate_epoch():\n",
    "    model.train(False)\n",
    "    mean_loss = 0\n",
    "\n",
    "    for i, batch in enumerate(test_loader):\n",
    "        X_batch, y_batch = batch[0], batch[1]\n",
    "\n",
    "        with torch.no_grad():\n",
    "            outputs = model(X_batch)\n",
    "            loss = loss_function(outputs, y_batch)\n",
    "            mean_loss += loss.item()\n",
    "\n",
    "    print(f'Validation Loss: {mean_loss / len(test_loader):.3f}')\n",
    "    print('______________________________________________________________________________')"
   ]
  },
  {
   "cell_type": "code",
   "execution_count": 4,
   "metadata": {},
   "outputs": [
    {
     "name": "stdout",
     "output_type": "stream",
     "text": [
      "Epoch: 1\n",
      "Batch 100, Loss: 0.552\n",
      "Batch 200, Loss: 0.207\n",
      "Batch 300, Loss: 0.153\n",
      "Batch 400, Loss: 0.145\n",
      "Validation Loss: 0.136\n",
      "______________________________________________________________________________\n",
      "Epoch: 2\n",
      "Batch 100, Loss: 0.139\n",
      "Batch 200, Loss: 0.139\n",
      "Batch 300, Loss: 0.135\n",
      "Batch 400, Loss: 0.137\n",
      "Validation Loss: 0.130\n",
      "______________________________________________________________________________\n",
      "Epoch: 3\n",
      "Batch 100, Loss: 0.134\n",
      "Batch 200, Loss: 0.135\n",
      "Batch 300, Loss: 0.131\n",
      "Batch 400, Loss: 0.134\n",
      "Validation Loss: 0.127\n",
      "______________________________________________________________________________\n",
      "Epoch: 4\n",
      "Batch 100, Loss: 0.131\n",
      "Batch 200, Loss: 0.133\n",
      "Batch 300, Loss: 0.129\n",
      "Batch 400, Loss: 0.132\n",
      "Validation Loss: 0.125\n",
      "______________________________________________________________________________\n",
      "Epoch: 5\n",
      "Batch 100, Loss: 0.130\n",
      "Batch 200, Loss: 0.132\n",
      "Batch 300, Loss: 0.127\n",
      "Batch 400, Loss: 0.130\n",
      "Validation Loss: 0.124\n",
      "______________________________________________________________________________\n",
      "Epoch: 6\n",
      "Batch 100, Loss: 0.128\n",
      "Batch 200, Loss: 0.131\n",
      "Batch 300, Loss: 0.126\n",
      "Batch 400, Loss: 0.130\n",
      "Validation Loss: 0.123\n",
      "______________________________________________________________________________\n",
      "Epoch: 7\n",
      "Batch 100, Loss: 0.127\n",
      "Batch 200, Loss: 0.130\n",
      "Batch 300, Loss: 0.126\n",
      "Batch 400, Loss: 0.129\n",
      "Validation Loss: 0.123\n",
      "______________________________________________________________________________\n",
      "Epoch: 8\n",
      "Batch 100, Loss: 0.127\n",
      "Batch 200, Loss: 0.129\n",
      "Batch 300, Loss: 0.125\n",
      "Batch 400, Loss: 0.129\n",
      "Validation Loss: 0.123\n",
      "______________________________________________________________________________\n",
      "Epoch: 9\n",
      "Batch 100, Loss: 0.126\n",
      "Batch 200, Loss: 0.129\n",
      "Batch 300, Loss: 0.125\n",
      "Batch 400, Loss: 0.128\n",
      "Validation Loss: 0.123\n",
      "______________________________________________________________________________\n",
      "Epoch: 10\n",
      "Batch 100, Loss: 0.126\n",
      "Batch 200, Loss: 0.129\n",
      "Batch 300, Loss: 0.124\n",
      "Batch 400, Loss: 0.128\n",
      "Validation Loss: 0.122\n",
      "______________________________________________________________________________\n"
     ]
    }
   ],
   "source": [
    "if __name__ == '__main__':\n",
    "\n",
    "    # Training Loop\n",
    "    learning_rate = 1e-3\n",
    "    epochs = 10\n",
    "    loss_function = nn.MSELoss()\n",
    "    optimizer = torch.optim.Adam(model.parameters(), lr=learning_rate)\n",
    "\n",
    "    for epoch in range(epochs):\n",
    "        train_epoch()\n",
    "        validate_epoch()\n"
   ]
  },
  {
   "cell_type": "code",
   "execution_count": null,
   "metadata": {},
   "outputs": [],
   "source": [
    "validate_epoch()"
   ]
  },
  {
   "cell_type": "code",
   "execution_count": 7,
   "metadata": {},
   "outputs": [],
   "source": [
    "torch.save(model.state_dict(), \"MLP_model.pth\")"
   ]
  },
  {
   "cell_type": "code",
   "execution_count": null,
   "metadata": {},
   "outputs": [],
   "source": []
  }
 ],
 "metadata": {
  "kernelspec": {
   "display_name": "Python 3",
   "language": "python",
   "name": "python3"
  },
  "language_info": {
   "codemirror_mode": {
    "name": "ipython",
    "version": 3
   },
   "file_extension": ".py",
   "mimetype": "text/x-python",
   "name": "python",
   "nbconvert_exporter": "python",
   "pygments_lexer": "ipython3",
   "version": "3.10.12"
  }
 },
 "nbformat": 4,
 "nbformat_minor": 2
}
